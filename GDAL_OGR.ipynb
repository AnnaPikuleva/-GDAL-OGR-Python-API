{
  "nbformat": 4,
  "nbformat_minor": 0,
  "metadata": {
    "colab": {
      "name": "GDAL.ipynb",
      "provenance": [],
      "collapsed_sections": []
    },
    "kernelspec": {
      "name": "python3",
      "display_name": "Python 3"
    },
    "language_info": {
      "name": "python"
    }
  },
  "cells": [
    {
      "cell_type": "code",
      "execution_count": null,
      "metadata": {
        "id": "YqTEqjhqzM6N"
      },
      "outputs": [],
      "source": [
        "import gdal\n",
        "import ogr"
      ]
    },
    {
      "cell_type": "code",
      "source": [
        "dataset = gdal.Open('/content/b2.tif')"
      ],
      "metadata": {
        "id": "neT5q-J_0aXq"
      },
      "execution_count": null,
      "outputs": []
    },
    {
      "cell_type": "code",
      "source": [
        "print (dataset)"
      ],
      "metadata": {
        "colab": {
          "base_uri": "https://localhost:8080/"
        },
        "id": "fHMSE2OA02c5",
        "outputId": "c1344128-dfdf-4d09-ce04-125bc0c961e1"
      },
      "execution_count": null,
      "outputs": [
        {
          "output_type": "stream",
          "name": "stdout",
          "text": [
            "<osgeo.gdal.Dataset; proxy of <Swig Object of type 'GDALDatasetShadow *' at 0x7f227ce23660> >\n"
          ]
        }
      ]
    },
    {
      "cell_type": "code",
      "source": [
        "print ('Количество столбцов в растре:')\n",
        "print (dataset.RasterXSize)\n",
        "\n",
        "print ('\\nКоличество строк в растре:')\n",
        "print (dataset.RasterYSize)\n",
        "\n",
        "print ('\\nКоличество каналов (\"слоёв в матрице\"):')\n",
        "print (dataset.RasterCount)"
      ],
      "metadata": {
        "colab": {
          "base_uri": "https://localhost:8080/"
        },
        "id": "Y9Cit_gR064k",
        "outputId": "7a5ed7d5-9b46-4c9d-bb84-dd7eedffc338"
      },
      "execution_count": null,
      "outputs": [
        {
          "output_type": "stream",
          "name": "stdout",
          "text": [
            "Количество столбцов в растре:\n",
            "750\n",
            "\n",
            "Количество строк в растре:\n",
            "539\n",
            "\n",
            "Количество каналов (\"слоёв в матрице\"):\n",
            "1\n"
          ]
        }
      ]
    },
    {
      "cell_type": "code",
      "source": [
        "print ('Информация о системе координат:')\n",
        "print (dataset.GetProjection())\n",
        "\n",
        "print ('\\nИнформация о геопривязке:')\n",
        "print (dataset.GetGeoTransform())"
      ],
      "metadata": {
        "colab": {
          "base_uri": "https://localhost:8080/"
        },
        "id": "xGQQi3qv1XQ-",
        "outputId": "45e7c531-9295-440c-84ff-27efadefccaa"
      },
      "execution_count": null,
      "outputs": [
        {
          "output_type": "stream",
          "name": "stdout",
          "text": [
            "Информация о системе координат:\n",
            "PROJCS[\"WGS 84 / UTM zone 20N\",GEOGCS[\"WGS 84\",DATUM[\"WGS_1984\",SPHEROID[\"WGS 84\",6378137,298.257223563,AUTHORITY[\"EPSG\",\"7030\"]],AUTHORITY[\"EPSG\",\"6326\"]],PRIMEM[\"Greenwich\",0,AUTHORITY[\"EPSG\",\"8901\"]],UNIT[\"degree\",0.0174532925199433,AUTHORITY[\"EPSG\",\"9122\"]],AUTHORITY[\"EPSG\",\"4326\"]],PROJECTION[\"Transverse_Mercator\"],PARAMETER[\"latitude_of_origin\",0],PARAMETER[\"central_meridian\",-63],PARAMETER[\"scale_factor\",0.9996],PARAMETER[\"false_easting\",500000],PARAMETER[\"false_northing\",0],UNIT[\"metre\",1,AUTHORITY[\"EPSG\",\"9001\"]],AXIS[\"Easting\",EAST],AXIS[\"Northing\",NORTH],AUTHORITY[\"EPSG\",\"32620\"]]\n",
            "\n",
            "Информация о геопривязке:\n",
            "(457845.0, 30.0, 0.0, -1909245.0, 0.0, -30.0)\n"
          ]
        }
      ]
    },
    {
      "cell_type": "markdown",
      "source": [
        "1) 457845.0 - координата X левого верхнего угла растра\n",
        "\n",
        "2) 30.0 - размер/шаг одного пикселя по X\n",
        "\n",
        "3) 0.0 - первый поворотный коэффициент 1 (в 99.99% случаев это 0)\n",
        "\n",
        "4) -1909245.0 - координата Y левого верхнего угла растра\n",
        "\n",
        "5) 0.0 - второй поворотный коэффициент 1 (в 99.99% случаев это 0)\n",
        "\n",
        "6) -30.0 - размер/шаг одного пикселя по Y"
      ],
      "metadata": {
        "id": "fDH3qk4M1i7N"
      }
    },
    {
      "cell_type": "code",
      "source": [
        "#доступ к самим данным\n",
        "band_1 = dataset.GetRasterBand(1)\n",
        "print (band_1)"
      ],
      "metadata": {
        "colab": {
          "base_uri": "https://localhost:8080/"
        },
        "id": "8tLIzl_I1c8M",
        "outputId": "9816cb64-c5c9-4f12-d666-0a7be9d2f7d6"
      },
      "execution_count": null,
      "outputs": [
        {
          "output_type": "stream",
          "name": "stdout",
          "text": [
            "<osgeo.gdal.Band; proxy of <Swig Object of type 'GDALRasterBandShadow *' at 0x7f2297a2f690> >\n"
          ]
        }
      ]
    },
    {
      "cell_type": "markdown",
      "source": [
        ""
      ],
      "metadata": {
        "id": "83fOGVo-1hw1"
      }
    },
    {
      "cell_type": "code",
      "source": [
        "# Читаем значения матрицы\n",
        "band_1_data = band_1.ReadAsArray()\n",
        "print (band_1_data)"
      ],
      "metadata": {
        "colab": {
          "base_uri": "https://localhost:8080/"
        },
        "id": "sDePvyQe2UqK",
        "outputId": "e9aaf2c4-5607-495b-8eec-4730a2665456"
      },
      "execution_count": null,
      "outputs": [
        {
          "output_type": "stream",
          "name": "stdout",
          "text": [
            "[[ 8949  8805  9094 ...  9160  9199  9180]\n",
            " [ 8752  8715  8849 ...  9161  9186  9240]\n",
            " [ 8680  8750  8790 ...  9128  9174  9270]\n",
            " ...\n",
            " [10939 11152 11776 ...  9092  9135  9265]\n",
            " [11224 11863 12554 ...  9125  9165  9233]\n",
            " [11756 12722 12250 ...  9127  9048  9362]]\n"
          ]
        }
      ]
    },
    {
      "cell_type": "code",
      "source": [
        "# что лежит в ячейке 100, 100 ?\n",
        "band_1_data[100,100]"
      ],
      "metadata": {
        "colab": {
          "base_uri": "https://localhost:8080/"
        },
        "id": "04Ug3xxV2ced",
        "outputId": "c39c7b76-8651-448e-8381-5aba5398d6af"
      },
      "execution_count": null,
      "outputs": [
        {
          "output_type": "execute_result",
          "data": {
            "text/plain": [
              "8973"
            ]
          },
          "metadata": {},
          "execution_count": 12
        }
      ]
    },
    {
      "cell_type": "code",
      "source": [
        "# Срез по ячейкам - 70 столбец с 50 по 80 строки\n",
        "band_1_data[50:80, 70]"
      ],
      "metadata": {
        "colab": {
          "base_uri": "https://localhost:8080/"
        },
        "id": "3-FTxIqS2j76",
        "outputId": "a7616948-87c4-4a20-d82f-c62d9d95471d"
      },
      "execution_count": null,
      "outputs": [
        {
          "output_type": "execute_result",
          "data": {
            "text/plain": [
              "array([8897, 8902, 8887, 8893, 8927, 8975, 8967, 8945, 8945, 8927, 8891,\n",
              "       8955, 8960, 8941, 8886, 8802, 8796, 8833, 8861, 8910, 8930, 8921,\n",
              "       8918, 8913, 8912, 8912, 8908, 8923, 8935, 8928], dtype=uint16)"
            ]
          },
          "metadata": {},
          "execution_count": 13
        }
      ]
    },
    {
      "cell_type": "code",
      "source": [
        "# это матрица numpy array. Для работы с ней импортируем numpy\n",
        "import numpy"
      ],
      "metadata": {
        "id": "itg3jlyr2oK7"
      },
      "execution_count": null,
      "outputs": []
    },
    {
      "cell_type": "code",
      "source": [
        "# статистика с помощью numpy\n",
        "print ('Минимимальное значение:')\n",
        "print (numpy.nanmin(band_1_data))\n",
        "\n",
        "print ('\\nМаксимальное значение:')\n",
        "print (numpy.nanmax(band_1_data))\n",
        "\n",
        "print ('\\nСреднее значение:')\n",
        "print (numpy.nanmean(band_1_data))"
      ],
      "metadata": {
        "colab": {
          "base_uri": "https://localhost:8080/"
        },
        "id": "x3Eex5Qh3M3R",
        "outputId": "0094b3b9-c49a-4a74-ee92-4dceae160baa"
      },
      "execution_count": null,
      "outputs": [
        {
          "output_type": "stream",
          "name": "stdout",
          "text": [
            "Минимимальное значение:\n",
            "8542\n",
            "\n",
            "Максимальное значение:\n",
            "20799\n",
            "\n",
            "Среднее значение:\n",
            "9311.382303030303\n"
          ]
        }
      ]
    },
    {
      "cell_type": "markdown",
      "source": [
        "Работа с векторными данными"
      ],
      "metadata": {
        "id": "u2Xi1pHP3cF3"
      }
    },
    {
      "cell_type": "code",
      "source": [
        "countries = ogr.Open('/content/110/ne_110m_admin_0_countries.shp')"
      ],
      "metadata": {
        "id": "Y9iCsgcK3agR"
      },
      "execution_count": null,
      "outputs": []
    },
    {
      "cell_type": "code",
      "source": [
        "# смотрим - что это\n",
        "print (countries)"
      ],
      "metadata": {
        "colab": {
          "base_uri": "https://localhost:8080/"
        },
        "id": "g6F2eIBQ3-tz",
        "outputId": "da3bf610-a057-44f7-fa06-f3b913604b4a"
      },
      "execution_count": null,
      "outputs": [
        {
          "output_type": "stream",
          "name": "stdout",
          "text": [
            "<osgeo.ogr.DataSource; proxy of <Swig Object of type 'OGRDataSourceShadow *' at 0x7fc68852c7e0> >\n"
          ]
        }
      ]
    },
    {
      "cell_type": "code",
      "source": [
        "# посмотрим некоторые свойства\n",
        "print ('Количество слоёв в наборе')\n",
        "print (countries.GetLayerCount())"
      ],
      "metadata": {
        "colab": {
          "base_uri": "https://localhost:8080/"
        },
        "id": "QmAQrxwJ4A84",
        "outputId": "7a311bfe-36f4-409b-c22e-56b994051792"
      },
      "execution_count": null,
      "outputs": [
        {
          "output_type": "stream",
          "name": "stdout",
          "text": [
            "Количество слоёв в наборе\n",
            "1\n"
          ]
        }
      ]
    },
    {
      "cell_type": "code",
      "source": [
        "# смотрим - что это\n",
        "print (countries)"
      ],
      "metadata": {
        "colab": {
          "base_uri": "https://localhost:8080/"
        },
        "id": "l-tlHgrG4RFA",
        "outputId": "5b01110e-1c21-4640-c6f0-3d782ded772a"
      },
      "execution_count": null,
      "outputs": [
        {
          "output_type": "stream",
          "name": "stdout",
          "text": [
            "<osgeo.ogr.DataSource; proxy of <Swig Object of type 'OGRDataSourceShadow *' at 0x7fc68852c7e0> >\n"
          ]
        }
      ]
    },
    {
      "cell_type": "code",
      "source": [
        "countries_layer = countries.GetLayerByIndex(0)\n",
        "\n",
        "# изучим, что это за класс\n",
        "print(countries_layer)"
      ],
      "metadata": {
        "colab": {
          "base_uri": "https://localhost:8080/"
        },
        "id": "yQqSEY3z6Cuq",
        "outputId": "c9119507-b3b1-4edc-f3ea-ecd8538953de"
      },
      "execution_count": null,
      "outputs": [
        {
          "output_type": "stream",
          "name": "stdout",
          "text": [
            "<osgeo.ogr.Layer; proxy of <Swig Object of type 'OGRLayerShadow *' at 0x7fc6718dc120> >\n"
          ]
        }
      ]
    },
    {
      "cell_type": "code",
      "source": [
        "# продолжаем извлекать свойства\n",
        "print ('Название слоя')\n",
        "print (countries_layer.GetName())\n",
        "\n",
        "print ('\\nТип его геометрии')\n",
        "print (countries_layer.GetGeomType())\n",
        "\n",
        "# 1 - точки\n",
        "# 2 - линии\n",
        "# 3 - полигоны\n",
        "# 4 - мультиточки\n",
        "# 5 - мультилинии\n",
        "# 6 - мультиполигоны"
      ],
      "metadata": {
        "colab": {
          "base_uri": "https://localhost:8080/"
        },
        "id": "HXwAcrqFAZ7q",
        "outputId": "bc6cf841-e611-47c4-a5fc-4ed8680c277d"
      },
      "execution_count": null,
      "outputs": [
        {
          "output_type": "stream",
          "name": "stdout",
          "text": [
            "Название слоя\n",
            "ne_110m_admin_0_countries\n",
            "\n",
            "Тип его геометрии\n",
            "3\n"
          ]
        }
      ]
    },
    {
      "cell_type": "code",
      "source": [
        "# Теперь смотрим на атрибуты\n",
        "\n",
        "print ('\\nСписок атрибутов и их типы:')\n",
        "\n",
        "layer_definition = countries_layer.GetLayerDefn()\n",
        "#print (layer_definition)\n",
        "for field in range(layer_definition.GetFieldCount()):\n",
        "    #print (field)\n",
        "    field_definition = layer_definition.GetFieldDefn(field)\n",
        "    print ('%s (%s)' % (field_definition.name, field_definition.type))"
      ],
      "metadata": {
        "colab": {
          "base_uri": "https://localhost:8080/"
        },
        "id": "yCKuJJsbAlGL",
        "outputId": "f349c025-b3d4-4a84-e42a-d0d4efa44b56"
      },
      "execution_count": null,
      "outputs": [
        {
          "output_type": "stream",
          "name": "stdout",
          "text": [
            "\n",
            "Список атрибутов и их типы:\n",
            "featurecla (4)\n",
            "scalerank (0)\n",
            "LABELRANK (0)\n",
            "SOVEREIGNT (4)\n",
            "SOV_A3 (4)\n",
            "ADM0_DIF (0)\n",
            "LEVEL (0)\n",
            "TYPE (4)\n",
            "ADMIN (4)\n",
            "ADM0_A3 (4)\n",
            "GEOU_DIF (0)\n",
            "GEOUNIT (4)\n",
            "GU_A3 (4)\n",
            "SU_DIF (0)\n",
            "SUBUNIT (4)\n",
            "SU_A3 (4)\n",
            "BRK_DIFF (0)\n",
            "NAME (4)\n",
            "NAME_LONG (4)\n",
            "BRK_A3 (4)\n",
            "BRK_NAME (4)\n",
            "BRK_GROUP (4)\n",
            "ABBREV (4)\n",
            "POSTAL (4)\n",
            "FORMAL_EN (4)\n",
            "FORMAL_FR (4)\n",
            "NAME_CIAWF (4)\n",
            "NOTE_ADM0 (4)\n",
            "NOTE_BRK (4)\n",
            "NAME_SORT (4)\n",
            "NAME_ALT (4)\n",
            "MAPCOLOR7 (0)\n",
            "MAPCOLOR8 (0)\n",
            "MAPCOLOR9 (0)\n",
            "MAPCOLOR13 (0)\n",
            "POP_EST (12)\n",
            "POP_RANK (0)\n",
            "GDP_MD_EST (2)\n",
            "POP_YEAR (0)\n",
            "LASTCENSUS (0)\n",
            "GDP_YEAR (0)\n",
            "ECONOMY (4)\n",
            "INCOME_GRP (4)\n",
            "WIKIPEDIA (0)\n",
            "FIPS_10_ (4)\n",
            "ISO_A2 (4)\n",
            "ISO_A3 (4)\n",
            "ISO_A3_EH (4)\n",
            "ISO_N3 (4)\n",
            "UN_A3 (4)\n",
            "WB_A2 (4)\n",
            "WB_A3 (4)\n",
            "WOE_ID (0)\n",
            "WOE_ID_EH (0)\n",
            "WOE_NOTE (4)\n",
            "ADM0_A3_IS (4)\n",
            "ADM0_A3_US (4)\n",
            "ADM0_A3_UN (0)\n",
            "ADM0_A3_WB (0)\n",
            "CONTINENT (4)\n",
            "REGION_UN (4)\n",
            "SUBREGION (4)\n",
            "REGION_WB (4)\n",
            "NAME_LEN (0)\n",
            "LONG_LEN (0)\n",
            "ABBREV_LEN (0)\n",
            "TINY (0)\n",
            "HOMEPART (0)\n",
            "MIN_ZOOM (2)\n",
            "MIN_LABEL (2)\n",
            "MAX_LABEL (2)\n",
            "NE_ID (12)\n",
            "WIKIDATAID (4)\n",
            "NAME_AR (4)\n",
            "NAME_BN (4)\n",
            "NAME_DE (4)\n",
            "NAME_EN (4)\n",
            "NAME_ES (4)\n",
            "NAME_FR (4)\n",
            "NAME_EL (4)\n",
            "NAME_HI (4)\n",
            "NAME_HU (4)\n",
            "NAME_ID (4)\n",
            "NAME_IT (4)\n",
            "NAME_JA (4)\n",
            "NAME_KO (4)\n",
            "NAME_NL (4)\n",
            "NAME_PL (4)\n",
            "NAME_PT (4)\n",
            "NAME_RU (4)\n",
            "NAME_SV (4)\n",
            "NAME_TR (4)\n",
            "NAME_VI (4)\n",
            "NAME_ZH (4)\n",
            "AREA (2)\n"
          ]
        }
      ]
    },
    {
      "cell_type": "code",
      "source": [
        "# Переходим к объектам\n",
        "# Можно брать объект по номеру\n",
        "feature3 = countries_layer.GetFeature(3)\n",
        "print (feature3)"
      ],
      "metadata": {
        "colab": {
          "base_uri": "https://localhost:8080/"
        },
        "id": "SNNGpVr4B-GZ",
        "outputId": "149690da-d148-4167-fd20-3891ae9700c4"
      },
      "execution_count": null,
      "outputs": [
        {
          "output_type": "stream",
          "name": "stdout",
          "text": [
            "<osgeo.ogr.Feature; proxy of <Swig Object of type 'OGRFeatureShadow *' at 0x7fc68ce83600> >\n"
          ]
        }
      ]
    },
    {
      "cell_type": "code",
      "source": [
        "# либо перебирать их\n",
        "for feature in countries_layer:\n",
        "    # перебираем по очереди все объекты\n",
        "    print (feature)"
      ],
      "metadata": {
        "colab": {
          "base_uri": "https://localhost:8080/"
        },
        "id": "XlChJ_1qB-NY",
        "outputId": "ac2aefc6-a3f1-4af2-8e6d-0575c760b268"
      },
      "execution_count": null,
      "outputs": [
        {
          "output_type": "stream",
          "name": "stdout",
          "text": [
            "<osgeo.ogr.Feature; proxy of <Swig Object of type 'OGRFeatureShadow *' at 0x7fc671b52f00> >\n",
            "<osgeo.ogr.Feature; proxy of <Swig Object of type 'OGRFeatureShadow *' at 0x7fc68852c6f0> >\n",
            "<osgeo.ogr.Feature; proxy of <Swig Object of type 'OGRFeatureShadow *' at 0x7fc671b52f00> >\n",
            "<osgeo.ogr.Feature; proxy of <Swig Object of type 'OGRFeatureShadow *' at 0x7fc68852c3c0> >\n",
            "<osgeo.ogr.Feature; proxy of <Swig Object of type 'OGRFeatureShadow *' at 0x7fc671b52f00> >\n",
            "<osgeo.ogr.Feature; proxy of <Swig Object of type 'OGRFeatureShadow *' at 0x7fc68852c6f0> >\n",
            "<osgeo.ogr.Feature; proxy of <Swig Object of type 'OGRFeatureShadow *' at 0x7fc671b52f00> >\n",
            "<osgeo.ogr.Feature; proxy of <Swig Object of type 'OGRFeatureShadow *' at 0x7fc68852c3c0> >\n",
            "<osgeo.ogr.Feature; proxy of <Swig Object of type 'OGRFeatureShadow *' at 0x7fc671b52cc0> >\n",
            "<osgeo.ogr.Feature; proxy of <Swig Object of type 'OGRFeatureShadow *' at 0x7fc68852c6f0> >\n",
            "<osgeo.ogr.Feature; proxy of <Swig Object of type 'OGRFeatureShadow *' at 0x7fc671b52f00> >\n",
            "<osgeo.ogr.Feature; proxy of <Swig Object of type 'OGRFeatureShadow *' at 0x7fc68852c3c0> >\n",
            "<osgeo.ogr.Feature; proxy of <Swig Object of type 'OGRFeatureShadow *' at 0x7fc671b52cc0> >\n",
            "<osgeo.ogr.Feature; proxy of <Swig Object of type 'OGRFeatureShadow *' at 0x7fc68852c6f0> >\n",
            "<osgeo.ogr.Feature; proxy of <Swig Object of type 'OGRFeatureShadow *' at 0x7fc671b52f00> >\n",
            "<osgeo.ogr.Feature; proxy of <Swig Object of type 'OGRFeatureShadow *' at 0x7fc68852c3c0> >\n",
            "<osgeo.ogr.Feature; proxy of <Swig Object of type 'OGRFeatureShadow *' at 0x7fc671b52cc0> >\n",
            "<osgeo.ogr.Feature; proxy of <Swig Object of type 'OGRFeatureShadow *' at 0x7fc68852c6f0> >\n",
            "<osgeo.ogr.Feature; proxy of <Swig Object of type 'OGRFeatureShadow *' at 0x7fc671b52f00> >\n",
            "<osgeo.ogr.Feature; proxy of <Swig Object of type 'OGRFeatureShadow *' at 0x7fc68852c3c0> >\n",
            "<osgeo.ogr.Feature; proxy of <Swig Object of type 'OGRFeatureShadow *' at 0x7fc671b52cc0> >\n",
            "<osgeo.ogr.Feature; proxy of <Swig Object of type 'OGRFeatureShadow *' at 0x7fc68852c6f0> >\n",
            "<osgeo.ogr.Feature; proxy of <Swig Object of type 'OGRFeatureShadow *' at 0x7fc671b52f00> >\n",
            "<osgeo.ogr.Feature; proxy of <Swig Object of type 'OGRFeatureShadow *' at 0x7fc68852c3c0> >\n",
            "<osgeo.ogr.Feature; proxy of <Swig Object of type 'OGRFeatureShadow *' at 0x7fc671b52cc0> >\n",
            "<osgeo.ogr.Feature; proxy of <Swig Object of type 'OGRFeatureShadow *' at 0x7fc68852c6f0> >\n",
            "<osgeo.ogr.Feature; proxy of <Swig Object of type 'OGRFeatureShadow *' at 0x7fc671b52f00> >\n",
            "<osgeo.ogr.Feature; proxy of <Swig Object of type 'OGRFeatureShadow *' at 0x7fc68852c3c0> >\n",
            "<osgeo.ogr.Feature; proxy of <Swig Object of type 'OGRFeatureShadow *' at 0x7fc671b52cc0> >\n",
            "<osgeo.ogr.Feature; proxy of <Swig Object of type 'OGRFeatureShadow *' at 0x7fc68bfe1c60> >\n",
            "<osgeo.ogr.Feature; proxy of <Swig Object of type 'OGRFeatureShadow *' at 0x7fc671b52f00> >\n",
            "<osgeo.ogr.Feature; proxy of <Swig Object of type 'OGRFeatureShadow *' at 0x7fc68bfe1c60> >\n",
            "<osgeo.ogr.Feature; proxy of <Swig Object of type 'OGRFeatureShadow *' at 0x7fc671b52f00> >\n",
            "<osgeo.ogr.Feature; proxy of <Swig Object of type 'OGRFeatureShadow *' at 0x7fc68bfe1c60> >\n",
            "<osgeo.ogr.Feature; proxy of <Swig Object of type 'OGRFeatureShadow *' at 0x7fc671b52f00> >\n",
            "<osgeo.ogr.Feature; proxy of <Swig Object of type 'OGRFeatureShadow *' at 0x7fc68bfe1c60> >\n",
            "<osgeo.ogr.Feature; proxy of <Swig Object of type 'OGRFeatureShadow *' at 0x7fc671b52f00> >\n",
            "<osgeo.ogr.Feature; proxy of <Swig Object of type 'OGRFeatureShadow *' at 0x7fc68bfe1c60> >\n",
            "<osgeo.ogr.Feature; proxy of <Swig Object of type 'OGRFeatureShadow *' at 0x7fc671b52f00> >\n",
            "<osgeo.ogr.Feature; proxy of <Swig Object of type 'OGRFeatureShadow *' at 0x7fc68bfe1c60> >\n",
            "<osgeo.ogr.Feature; proxy of <Swig Object of type 'OGRFeatureShadow *' at 0x7fc671b52f00> >\n",
            "<osgeo.ogr.Feature; proxy of <Swig Object of type 'OGRFeatureShadow *' at 0x7fc68bfe1c60> >\n",
            "<osgeo.ogr.Feature; proxy of <Swig Object of type 'OGRFeatureShadow *' at 0x7fc671b52f00> >\n",
            "<osgeo.ogr.Feature; proxy of <Swig Object of type 'OGRFeatureShadow *' at 0x7fc68bfe1c60> >\n",
            "<osgeo.ogr.Feature; proxy of <Swig Object of type 'OGRFeatureShadow *' at 0x7fc671b52f00> >\n",
            "<osgeo.ogr.Feature; proxy of <Swig Object of type 'OGRFeatureShadow *' at 0x7fc68bfe1c60> >\n",
            "<osgeo.ogr.Feature; proxy of <Swig Object of type 'OGRFeatureShadow *' at 0x7fc671b52f00> >\n",
            "<osgeo.ogr.Feature; proxy of <Swig Object of type 'OGRFeatureShadow *' at 0x7fc68bfe1c60> >\n",
            "<osgeo.ogr.Feature; proxy of <Swig Object of type 'OGRFeatureShadow *' at 0x7fc671b52f00> >\n",
            "<osgeo.ogr.Feature; proxy of <Swig Object of type 'OGRFeatureShadow *' at 0x7fc68bfe1c60> >\n",
            "<osgeo.ogr.Feature; proxy of <Swig Object of type 'OGRFeatureShadow *' at 0x7fc671b52f00> >\n",
            "<osgeo.ogr.Feature; proxy of <Swig Object of type 'OGRFeatureShadow *' at 0x7fc68bfe1c60> >\n",
            "<osgeo.ogr.Feature; proxy of <Swig Object of type 'OGRFeatureShadow *' at 0x7fc671b52f00> >\n",
            "<osgeo.ogr.Feature; proxy of <Swig Object of type 'OGRFeatureShadow *' at 0x7fc68bfe1c60> >\n",
            "<osgeo.ogr.Feature; proxy of <Swig Object of type 'OGRFeatureShadow *' at 0x7fc671b52f00> >\n",
            "<osgeo.ogr.Feature; proxy of <Swig Object of type 'OGRFeatureShadow *' at 0x7fc68bfe1c60> >\n",
            "<osgeo.ogr.Feature; proxy of <Swig Object of type 'OGRFeatureShadow *' at 0x7fc671b52f00> >\n",
            "<osgeo.ogr.Feature; proxy of <Swig Object of type 'OGRFeatureShadow *' at 0x7fc68bfe1c60> >\n",
            "<osgeo.ogr.Feature; proxy of <Swig Object of type 'OGRFeatureShadow *' at 0x7fc671b52f00> >\n",
            "<osgeo.ogr.Feature; proxy of <Swig Object of type 'OGRFeatureShadow *' at 0x7fc68bfe1c60> >\n",
            "<osgeo.ogr.Feature; proxy of <Swig Object of type 'OGRFeatureShadow *' at 0x7fc671b52f00> >\n",
            "<osgeo.ogr.Feature; proxy of <Swig Object of type 'OGRFeatureShadow *' at 0x7fc68bfe1c60> >\n",
            "<osgeo.ogr.Feature; proxy of <Swig Object of type 'OGRFeatureShadow *' at 0x7fc671b52f00> >\n",
            "<osgeo.ogr.Feature; proxy of <Swig Object of type 'OGRFeatureShadow *' at 0x7fc68bfe1c60> >\n",
            "<osgeo.ogr.Feature; proxy of <Swig Object of type 'OGRFeatureShadow *' at 0x7fc671b52f00> >\n",
            "<osgeo.ogr.Feature; proxy of <Swig Object of type 'OGRFeatureShadow *' at 0x7fc68bfe1c60> >\n",
            "<osgeo.ogr.Feature; proxy of <Swig Object of type 'OGRFeatureShadow *' at 0x7fc671b52f00> >\n",
            "<osgeo.ogr.Feature; proxy of <Swig Object of type 'OGRFeatureShadow *' at 0x7fc68bfe1c60> >\n",
            "<osgeo.ogr.Feature; proxy of <Swig Object of type 'OGRFeatureShadow *' at 0x7fc671b52f00> >\n",
            "<osgeo.ogr.Feature; proxy of <Swig Object of type 'OGRFeatureShadow *' at 0x7fc68bfe1c60> >\n",
            "<osgeo.ogr.Feature; proxy of <Swig Object of type 'OGRFeatureShadow *' at 0x7fc671b52f00> >\n",
            "<osgeo.ogr.Feature; proxy of <Swig Object of type 'OGRFeatureShadow *' at 0x7fc68bfe1c60> >\n",
            "<osgeo.ogr.Feature; proxy of <Swig Object of type 'OGRFeatureShadow *' at 0x7fc671b52f00> >\n",
            "<osgeo.ogr.Feature; proxy of <Swig Object of type 'OGRFeatureShadow *' at 0x7fc68bfe1c60> >\n",
            "<osgeo.ogr.Feature; proxy of <Swig Object of type 'OGRFeatureShadow *' at 0x7fc671b52f00> >\n",
            "<osgeo.ogr.Feature; proxy of <Swig Object of type 'OGRFeatureShadow *' at 0x7fc68bfe1c60> >\n",
            "<osgeo.ogr.Feature; proxy of <Swig Object of type 'OGRFeatureShadow *' at 0x7fc671b52f00> >\n",
            "<osgeo.ogr.Feature; proxy of <Swig Object of type 'OGRFeatureShadow *' at 0x7fc671b52cc0> >\n",
            "<osgeo.ogr.Feature; proxy of <Swig Object of type 'OGRFeatureShadow *' at 0x7fc68bfe1c60> >\n",
            "<osgeo.ogr.Feature; proxy of <Swig Object of type 'OGRFeatureShadow *' at 0x7fc671b52cc0> >\n",
            "<osgeo.ogr.Feature; proxy of <Swig Object of type 'OGRFeatureShadow *' at 0x7fc68bfe1c60> >\n",
            "<osgeo.ogr.Feature; proxy of <Swig Object of type 'OGRFeatureShadow *' at 0x7fc671b52cc0> >\n",
            "<osgeo.ogr.Feature; proxy of <Swig Object of type 'OGRFeatureShadow *' at 0x7fc671b52f00> >\n",
            "<osgeo.ogr.Feature; proxy of <Swig Object of type 'OGRFeatureShadow *' at 0x7fc68bfe1c60> >\n",
            "<osgeo.ogr.Feature; proxy of <Swig Object of type 'OGRFeatureShadow *' at 0x7fc671b52f00> >\n",
            "<osgeo.ogr.Feature; proxy of <Swig Object of type 'OGRFeatureShadow *' at 0x7fc68bfe1c60> >\n",
            "<osgeo.ogr.Feature; proxy of <Swig Object of type 'OGRFeatureShadow *' at 0x7fc671b52f00> >\n",
            "<osgeo.ogr.Feature; proxy of <Swig Object of type 'OGRFeatureShadow *' at 0x7fc68bfe1c60> >\n",
            "<osgeo.ogr.Feature; proxy of <Swig Object of type 'OGRFeatureShadow *' at 0x7fc671b52cc0> >\n",
            "<osgeo.ogr.Feature; proxy of <Swig Object of type 'OGRFeatureShadow *' at 0x7fc671b52f00> >\n",
            "<osgeo.ogr.Feature; proxy of <Swig Object of type 'OGRFeatureShadow *' at 0x7fc671b52cc0> >\n",
            "<osgeo.ogr.Feature; proxy of <Swig Object of type 'OGRFeatureShadow *' at 0x7fc671b52f00> >\n",
            "<osgeo.ogr.Feature; proxy of <Swig Object of type 'OGRFeatureShadow *' at 0x7fc671b52cc0> >\n",
            "<osgeo.ogr.Feature; proxy of <Swig Object of type 'OGRFeatureShadow *' at 0x7fc671b52f00> >\n",
            "<osgeo.ogr.Feature; proxy of <Swig Object of type 'OGRFeatureShadow *' at 0x7fc671b52cc0> >\n",
            "<osgeo.ogr.Feature; proxy of <Swig Object of type 'OGRFeatureShadow *' at 0x7fc671b52f00> >\n",
            "<osgeo.ogr.Feature; proxy of <Swig Object of type 'OGRFeatureShadow *' at 0x7fc671b52cc0> >\n",
            "<osgeo.ogr.Feature; proxy of <Swig Object of type 'OGRFeatureShadow *' at 0x7fc671b52f00> >\n",
            "<osgeo.ogr.Feature; proxy of <Swig Object of type 'OGRFeatureShadow *' at 0x7fc671b52cc0> >\n",
            "<osgeo.ogr.Feature; proxy of <Swig Object of type 'OGRFeatureShadow *' at 0x7fc671b52f00> >\n",
            "<osgeo.ogr.Feature; proxy of <Swig Object of type 'OGRFeatureShadow *' at 0x7fc671b52cc0> >\n",
            "<osgeo.ogr.Feature; proxy of <Swig Object of type 'OGRFeatureShadow *' at 0x7fc671b52f00> >\n",
            "<osgeo.ogr.Feature; proxy of <Swig Object of type 'OGRFeatureShadow *' at 0x7fc671b52cc0> >\n",
            "<osgeo.ogr.Feature; proxy of <Swig Object of type 'OGRFeatureShadow *' at 0x7fc671b52f00> >\n",
            "<osgeo.ogr.Feature; proxy of <Swig Object of type 'OGRFeatureShadow *' at 0x7fc671b52cc0> >\n",
            "<osgeo.ogr.Feature; proxy of <Swig Object of type 'OGRFeatureShadow *' at 0x7fc671b52f00> >\n",
            "<osgeo.ogr.Feature; proxy of <Swig Object of type 'OGRFeatureShadow *' at 0x7fc671b52cc0> >\n",
            "<osgeo.ogr.Feature; proxy of <Swig Object of type 'OGRFeatureShadow *' at 0x7fc671b52f00> >\n",
            "<osgeo.ogr.Feature; proxy of <Swig Object of type 'OGRFeatureShadow *' at 0x7fc671b52cc0> >\n",
            "<osgeo.ogr.Feature; proxy of <Swig Object of type 'OGRFeatureShadow *' at 0x7fc671b52f00> >\n",
            "<osgeo.ogr.Feature; proxy of <Swig Object of type 'OGRFeatureShadow *' at 0x7fc671b52cc0> >\n",
            "<osgeo.ogr.Feature; proxy of <Swig Object of type 'OGRFeatureShadow *' at 0x7fc671b52f00> >\n",
            "<osgeo.ogr.Feature; proxy of <Swig Object of type 'OGRFeatureShadow *' at 0x7fc671b52cc0> >\n",
            "<osgeo.ogr.Feature; proxy of <Swig Object of type 'OGRFeatureShadow *' at 0x7fc671b52f00> >\n",
            "<osgeo.ogr.Feature; proxy of <Swig Object of type 'OGRFeatureShadow *' at 0x7fc68bfe1c60> >\n",
            "<osgeo.ogr.Feature; proxy of <Swig Object of type 'OGRFeatureShadow *' at 0x7fc671b52f00> >\n",
            "<osgeo.ogr.Feature; proxy of <Swig Object of type 'OGRFeatureShadow *' at 0x7fc68bfe1c60> >\n",
            "<osgeo.ogr.Feature; proxy of <Swig Object of type 'OGRFeatureShadow *' at 0x7fc671b52f00> >\n",
            "<osgeo.ogr.Feature; proxy of <Swig Object of type 'OGRFeatureShadow *' at 0x7fc68bfe1c60> >\n",
            "<osgeo.ogr.Feature; proxy of <Swig Object of type 'OGRFeatureShadow *' at 0x7fc671b52f00> >\n",
            "<osgeo.ogr.Feature; proxy of <Swig Object of type 'OGRFeatureShadow *' at 0x7fc68bfe1c60> >\n",
            "<osgeo.ogr.Feature; proxy of <Swig Object of type 'OGRFeatureShadow *' at 0x7fc671b52f00> >\n",
            "<osgeo.ogr.Feature; proxy of <Swig Object of type 'OGRFeatureShadow *' at 0x7fc68bfe1c60> >\n",
            "<osgeo.ogr.Feature; proxy of <Swig Object of type 'OGRFeatureShadow *' at 0x7fc671b52f00> >\n",
            "<osgeo.ogr.Feature; proxy of <Swig Object of type 'OGRFeatureShadow *' at 0x7fc68bfe1c60> >\n",
            "<osgeo.ogr.Feature; proxy of <Swig Object of type 'OGRFeatureShadow *' at 0x7fc671b52f00> >\n",
            "<osgeo.ogr.Feature; proxy of <Swig Object of type 'OGRFeatureShadow *' at 0x7fc68bfe1c60> >\n",
            "<osgeo.ogr.Feature; proxy of <Swig Object of type 'OGRFeatureShadow *' at 0x7fc671b52f00> >\n",
            "<osgeo.ogr.Feature; proxy of <Swig Object of type 'OGRFeatureShadow *' at 0x7fc68bfe1c60> >\n",
            "<osgeo.ogr.Feature; proxy of <Swig Object of type 'OGRFeatureShadow *' at 0x7fc671b52f00> >\n",
            "<osgeo.ogr.Feature; proxy of <Swig Object of type 'OGRFeatureShadow *' at 0x7fc68bfe1c60> >\n",
            "<osgeo.ogr.Feature; proxy of <Swig Object of type 'OGRFeatureShadow *' at 0x7fc671b52f00> >\n",
            "<osgeo.ogr.Feature; proxy of <Swig Object of type 'OGRFeatureShadow *' at 0x7fc68bfe1c60> >\n",
            "<osgeo.ogr.Feature; proxy of <Swig Object of type 'OGRFeatureShadow *' at 0x7fc671b52f00> >\n",
            "<osgeo.ogr.Feature; proxy of <Swig Object of type 'OGRFeatureShadow *' at 0x7fc68bfe1c60> >\n",
            "<osgeo.ogr.Feature; proxy of <Swig Object of type 'OGRFeatureShadow *' at 0x7fc671b52f00> >\n",
            "<osgeo.ogr.Feature; proxy of <Swig Object of type 'OGRFeatureShadow *' at 0x7fc68bfe1c60> >\n",
            "<osgeo.ogr.Feature; proxy of <Swig Object of type 'OGRFeatureShadow *' at 0x7fc671b52f00> >\n",
            "<osgeo.ogr.Feature; proxy of <Swig Object of type 'OGRFeatureShadow *' at 0x7fc68bfe1c60> >\n",
            "<osgeo.ogr.Feature; proxy of <Swig Object of type 'OGRFeatureShadow *' at 0x7fc671b52f00> >\n",
            "<osgeo.ogr.Feature; proxy of <Swig Object of type 'OGRFeatureShadow *' at 0x7fc68bfe1c60> >\n",
            "<osgeo.ogr.Feature; proxy of <Swig Object of type 'OGRFeatureShadow *' at 0x7fc671b52f00> >\n",
            "<osgeo.ogr.Feature; proxy of <Swig Object of type 'OGRFeatureShadow *' at 0x7fc68bfe1c60> >\n",
            "<osgeo.ogr.Feature; proxy of <Swig Object of type 'OGRFeatureShadow *' at 0x7fc671b52f00> >\n",
            "<osgeo.ogr.Feature; proxy of <Swig Object of type 'OGRFeatureShadow *' at 0x7fc68bfe1c60> >\n",
            "<osgeo.ogr.Feature; proxy of <Swig Object of type 'OGRFeatureShadow *' at 0x7fc671b52f00> >\n",
            "<osgeo.ogr.Feature; proxy of <Swig Object of type 'OGRFeatureShadow *' at 0x7fc68bfe1c60> >\n",
            "<osgeo.ogr.Feature; proxy of <Swig Object of type 'OGRFeatureShadow *' at 0x7fc671b52f00> >\n",
            "<osgeo.ogr.Feature; proxy of <Swig Object of type 'OGRFeatureShadow *' at 0x7fc68bfe1c60> >\n",
            "<osgeo.ogr.Feature; proxy of <Swig Object of type 'OGRFeatureShadow *' at 0x7fc671b52f00> >\n",
            "<osgeo.ogr.Feature; proxy of <Swig Object of type 'OGRFeatureShadow *' at 0x7fc671b52cc0> >\n",
            "<osgeo.ogr.Feature; proxy of <Swig Object of type 'OGRFeatureShadow *' at 0x7fc68bfe1c60> >\n",
            "<osgeo.ogr.Feature; proxy of <Swig Object of type 'OGRFeatureShadow *' at 0x7fc671b52cc0> >\n",
            "<osgeo.ogr.Feature; proxy of <Swig Object of type 'OGRFeatureShadow *' at 0x7fc68bfe1c60> >\n",
            "<osgeo.ogr.Feature; proxy of <Swig Object of type 'OGRFeatureShadow *' at 0x7fc671b52cc0> >\n",
            "<osgeo.ogr.Feature; proxy of <Swig Object of type 'OGRFeatureShadow *' at 0x7fc68bfe1c60> >\n",
            "<osgeo.ogr.Feature; proxy of <Swig Object of type 'OGRFeatureShadow *' at 0x7fc671b52cc0> >\n",
            "<osgeo.ogr.Feature; proxy of <Swig Object of type 'OGRFeatureShadow *' at 0x7fc68bfe1c60> >\n",
            "<osgeo.ogr.Feature; proxy of <Swig Object of type 'OGRFeatureShadow *' at 0x7fc671b52cc0> >\n",
            "<osgeo.ogr.Feature; proxy of <Swig Object of type 'OGRFeatureShadow *' at 0x7fc68bfe1c60> >\n",
            "<osgeo.ogr.Feature; proxy of <Swig Object of type 'OGRFeatureShadow *' at 0x7fc671b52cc0> >\n",
            "<osgeo.ogr.Feature; proxy of <Swig Object of type 'OGRFeatureShadow *' at 0x7fc68bfe1c60> >\n",
            "<osgeo.ogr.Feature; proxy of <Swig Object of type 'OGRFeatureShadow *' at 0x7fc671b52cc0> >\n",
            "<osgeo.ogr.Feature; proxy of <Swig Object of type 'OGRFeatureShadow *' at 0x7fc671b52f00> >\n",
            "<osgeo.ogr.Feature; proxy of <Swig Object of type 'OGRFeatureShadow *' at 0x7fc671b52cc0> >\n",
            "<osgeo.ogr.Feature; proxy of <Swig Object of type 'OGRFeatureShadow *' at 0x7fc671b52f00> >\n",
            "<osgeo.ogr.Feature; proxy of <Swig Object of type 'OGRFeatureShadow *' at 0x7fc671b52cc0> >\n",
            "<osgeo.ogr.Feature; proxy of <Swig Object of type 'OGRFeatureShadow *' at 0x7fc671b52f00> >\n",
            "<osgeo.ogr.Feature; proxy of <Swig Object of type 'OGRFeatureShadow *' at 0x7fc671b52cc0> >\n",
            "<osgeo.ogr.Feature; proxy of <Swig Object of type 'OGRFeatureShadow *' at 0x7fc671b52f00> >\n",
            "<osgeo.ogr.Feature; proxy of <Swig Object of type 'OGRFeatureShadow *' at 0x7fc671b52cc0> >\n",
            "<osgeo.ogr.Feature; proxy of <Swig Object of type 'OGRFeatureShadow *' at 0x7fc68bfe1c60> >\n",
            "<osgeo.ogr.Feature; proxy of <Swig Object of type 'OGRFeatureShadow *' at 0x7fc671b52cc0> >\n",
            "<osgeo.ogr.Feature; proxy of <Swig Object of type 'OGRFeatureShadow *' at 0x7fc671b52f00> >\n",
            "<osgeo.ogr.Feature; proxy of <Swig Object of type 'OGRFeatureShadow *' at 0x7fc671b52cc0> >\n",
            "<osgeo.ogr.Feature; proxy of <Swig Object of type 'OGRFeatureShadow *' at 0x7fc68bfe1c60> >\n",
            "<osgeo.ogr.Feature; proxy of <Swig Object of type 'OGRFeatureShadow *' at 0x7fc671b52cc0> >\n"
          ]
        }
      ]
    },
    {
      "cell_type": "code",
      "source": [
        "# Получаем свойства отдельного объекта\n",
        "print ('Геометрия объекта:')\n",
        "print (feature3.geometry())"
      ],
      "metadata": {
        "colab": {
          "base_uri": "https://localhost:8080/"
        },
        "id": "PwieACYICbpf",
        "outputId": "23e6785a-a4e3-4d25-e68c-7c12b2a11693"
      },
      "execution_count": null,
      "outputs": [
        {
          "output_type": "stream",
          "name": "stdout",
          "text": [
            "Геометрия объекта:\n",
            "MULTIPOLYGON (((-122.84 49.0,-122.97421 49.0025377777778,-124.91024 49.98456,-125.62461 50.41656,-127.43561 50.83061,-127.99276 51.71583,-127.85032 52.32961,-129.12979 52.75538,-129.30523 53.56159,-130.51497 54.28757,-130.536108952737 54.8027544767992,-130.53611 54.80278,-129.98 55.285,-130.00778 55.91583,-131.70781 56.55212,-132.73042 57.69289,-133.35556 58.41028,-134.27111 58.86111,-134.945 59.27056,-135.47583 59.78778,-136.47972 59.46389,-137.4525 58.905,-138.34089 59.56211,-139.039 60.0,-140.013 60.27682,-140.99778 60.30639,-140.9925 66.00003,-140.986 69.712,-140.985987610376 69.7119983995264,-139.12052 69.47102,-137.54636 68.99002,-136.50358 68.89804,-135.62576 69.31512,-134.41464 69.62743,-132.92925 69.50534,-131.43136 69.94451,-129.79471 70.19369,-129.10773 69.77927,-128.36156 70.01286,-128.13817 70.48384,-127.44712 70.37721,-125.75632 69.48058,-124.42483 70.1584,-124.28968 69.39969,-123.06108 69.56372,-122.6835 69.85553,-121.47226 69.79778,-119.94288 69.37786,-117.60268 69.01128,-116.22643 68.84151,-115.2469 68.90591,-113.89794 68.3989,-115.30489 67.90261,-113.49727 67.68815,-110.798 67.80612,-109.94619 67.98104,-108.8802 67.38144,-107.79239 67.88736,-108.81299 68.31164,-108.16721 68.65392,-106.95 68.7,-106.15 68.8,-105.34282 68.56122,-104.33791 68.018,-103.22115 68.09775,-101.45433 67.64689,-99.90195 67.80566,-98.4432 67.78165,-98.5586 68.40394,-97.66948 68.57864,-96.11991 68.23939,-96.12588 67.29338,-95.48943 68.0907,-94.685 68.06383,-94.23282 69.06903,-95.30408 69.68571,-96.47131 70.08976,-96.39115 71.19482,-95.2088 71.92053,-93.88997 71.76015,-92.87818 71.31869,-91.51964 70.19129,-92.40692 69.69997,-90.5471 69.49766,-90.55151 68.47499,-89.21515 69.25873,-88.01966 68.61508,-88.31749 67.87338,-87.35017 67.19872,-86.30607 67.92146,-85.57664 68.78456,-85.52197 69.88211,-84.10081 69.80539,-82.62258 69.65826,-81.28043 69.16202,-81.2202 68.66567,-81.96436 68.13253,-81.25928 67.59716,-81.38653 67.11078,-83.34456 66.41154,-84.73542 66.2573,-85.76943 66.55833,-86.0676 66.05625,-87.03143 65.21297,-87.32324 64.77563,-88.48296 64.09897,-89.91444 64.03273,-90.70398 63.61017,-90.77004 62.96021,-91.93342 62.83508,-93.15698 62.02469,-94.24153 60.89865,-94.62931 60.11021,-94.6846 58.94882,-93.21502 58.78212,-92.76462 57.84571,-92.29703 57.08709,-90.89769 57.28468,-89.03953 56.85172,-88.03978 56.47162,-87.32421 55.99914,-86.07121 55.72383,-85.01181 55.3026,-83.36055 55.24489,-82.27285 55.14832,-82.4362 54.28227,-82.12502 53.27703,-81.40075 52.15788,-79.91289 51.20842,-79.14301 51.53393,-78.60191 52.56208,-79.12421 54.14145,-79.82958 54.66772,-78.22874 55.13645,-77.0956 55.83741,-76.54137 56.53423,-76.62319 57.20263,-77.30226 58.05209,-78.51688 58.80458,-77.33676 59.85261,-77.77272 60.75788,-78.10687 62.31964,-77.41067 62.55053,-75.69621 62.2784,-74.6682 62.18111,-73.83988 62.4438,-72.90853 62.10507,-71.67708 61.52535,-71.37369 61.13717,-69.59042 61.06141,-69.62033 60.22125,-69.2879 58.95736,-68.37455 58.80106,-67.64976 58.21206,-66.20178 58.76731,-65.24517 59.87071,-64.58352 60.33558,-63.80475 59.4426,-62.50236 58.16708,-61.39655 56.96745,-61.79866 56.33945,-60.46853 55.77548,-59.56962 55.20407,-57.97508 54.94549,-57.3332 54.6265,-56.93689 53.78032,-56.15811 53.64749,-55.75632 53.27036,-55.68338 52.14664,-56.40916 51.7707,-57.12691 51.41972,-58.77482 51.0643,-60.03309 50.24277,-61.72366 50.08046,-63.86251 50.29099,-65.36331 50.2982,-66.39905 50.22897,-67.23631 49.51156,-68.51114 49.06836,-69.95362 47.74488,-71.10458 46.82171,-70.25522 46.98606,-68.65 48.3,-66.55243 49.1331,-65.05626 49.23278,-64.17099 48.74248,-65.11545 48.07085,-64.79854 46.99297,-64.47219 46.23849,-63.17329 45.73902,-61.52072 45.88377,-60.51815 47.00793,-60.4486 46.28264,-59.80287 45.9204,-61.03988 45.26525,-63.25471 44.67014,-64.24656 44.26553,-65.36406 43.54523,-66.1234 43.61867,-66.16173 44.46512,-64.42549 45.29204,-66.02605 45.25931,-67.13741 45.13753,-67.79134 45.70281,-67.79046 47.06636,-68.23444 47.35486,-68.905 47.185,-69.237216 47.447781,-69.99997 46.69307,-70.305 45.915,-70.66 45.46,-71.08482 45.30524,-71.405 45.255,-71.50506 45.0082,-73.34783 45.00738,-74.867 45.00048,-75.31821 44.81645,-76.375 44.09631,-76.5 44.0184588937586,-76.8200341458056 43.6287842880938,-77.7378850979577 43.6290555893633,-78.7202799140424 43.6250894231849,-79.1716735501119 43.4663394231843,-79.01 43.27,-78.92 42.965,-78.9393621487438 42.863611355148,-80.2474476793479 42.3661998561225,-81.2777465481672 42.2090259873068,-82.4392777167916 41.6751050888673,-82.6900892809202 41.6751050888673,-83.029810146807 41.832795722006,-83.1419996813126 41.9756810572929,-83.12 42.08,-82.9 42.43,-82.43 42.98,-82.137642381504 43.57108755144,-82.3377631254311 44.44,-82.5509246487582 45.3475165879054,-83.5928507148431 45.8168936224125,-83.4695507473947 45.9946863877125,-83.6161309475906 46.116926988299,-83.8907653470057 46.116926988299,-84.0918512641615 46.2754186061383,-84.1421195136734 46.5122258571157,-84.3367 46.40877,-84.6049 46.4396,-84.5437487454458 46.5386841904491,-84.7792382473999 46.637101955749,-84.8760798815149 46.9000833196824,-85.6523632474034 47.2202188177305,-86.4619908312283 47.553338019392,-87.4397926233003 47.94,-88.3781141832867 48.3029175888937,-89.2729174466367 48.0198082545828,-89.6 48.01,-90.83 48.27,-91.64 48.14,-92.61 48.45,-93.63087 48.60926,-94.32914 48.67074,-94.64 48.84,-94.81758 49.38905,-95.15609 49.38425,-95.1590695091721 49.0,-97.2287200000048 49.0007,-100.65 49.0,-104.04826 48.99986,-107.05 49.0,-110.05 49.0,-113 49,-116.04818 49.0,-117.03121 49.0,-120.0 49.0,-122.84 49.0)),((-83.99367 62.4528,-83.25048 62.91409,-81.87699 62.90458,-81.89825 62.7108,-83.06857 62.15922,-83.77462 62.18231,-83.99367 62.4528)),((-79.7758331298828 72.8029022216797,-80.8760986328125 73.3331832885742,-80.8338851928711 73.6931838989258,-80.3530578613281 73.7597198486328,-78.0644378662109 73.6519317626953,-76.34 73.102684989953,-76.2514038085938 72.8263854980469,-77.3144378662109 72.8555450439453,-78.3916702270508 72.8766555786133,-79.4862518310547 72.7422027587891,-79.7758331298828 72.8029022216797)),((-80.315395 62.085565,-79.92939 62.3856,-79.52002 62.36371,-79.26582 62.158675,-79.65752 61.63308,-80.09956 61.7181,-80.36215 62.01649,-80.315395 62.085565)),((-93.6127559069405 74.9799972602244,-94.1569087389739 74.5923465033869,-95.6086805895656 74.6668639187518,-96.8209321764845 74.9276231960966,-96.2885874092298 75.3778282742234,-94.8508198717892 75.6472175157609,-93.977746548218 75.296489569796,-93.6127559069405 74.9799972602244)),((-93.840003017944 77.5199972602345,-94.2956082832453 77.4913426785287,-96.1696541003101 77.5551113959769,-96.4363044909361 77.8346292182436,-94.4225772773864 77.820004787905,-93.7206562975659 77.6343313666803,-93.840003017944 77.5199972602345)),((-96.7543987699088 78.765812689927,-95.5592779202946 78.4183145209803,-95.8302949694493 78.0569412299632,-97.309842902398 77.8505972358218,-98.124289313534 78.0828569607576,-98.5528678047467 78.4581053738451,-98.6319844225855 78.8719302436384,-97.3372314115127 78.8319843614768,-96.7543987699088 78.765812689927)),((-88.1503503079603 74.392307033985,-89.7647220527584 74.5155553250012,-92.4224409655295 74.837757880341,-92.7682854886428 75.3868199734421,-92.8899059720417 75.8826553412827,-93.893824022176 76.3192436795006,-95.9624574450358 76.4413809272224,-97.1213789538295 76.7510777859476,-96.7451228503124 77.1613886583451,-94.6840858629994 77.0978783230584,-93.5739210680731 76.776295884906,-91.6050231595366 76.7785179714946,-90.7418458727493 76.4495974799568,-90.969661424508 76.0740131700595,-89.8222379218993 75.8477737494857,-89.1870828925998 75.6101655138076,-87.8382763333497 75.5661888699272,-86.3791922675886 75.4824213731821,-84.7896252102906 75.6992040066465,-82.7534445869101 75.7843150906312,-81.1285308499244 75.713983466282,-80.0575109524592 75.3368488634159,-79.8339328681484 74.9231273464872,-80.4577707587759 74.6573037787778,-81.9488425361256 74.4424590115243,-83.2288936022114 74.5640278184909,-86.0974523587333 74.4100320502612,-88.1503503079603 74.392307033985)),((-111.264443325631 78.1529560411615,-109.854451870547 77.9963247748849,-110.186938035913 77.6970148790503,-112.051191169058 77.4092288276169,-113.534278937619 77.7322065294411,-112.724586758254 78.051050116682,-111.264443325631 78.1529560411615)),((-110.963660651476 78.8044408230652,-109.663145718203 78.6019725613456,-110.881314256619 78.40691986766,-112.542091437615 78.4079017198735,-112.525890876092 78.5505545112152,-111.500010342233 78.8499935981305,-110.963660651476 78.8044408230652)),((-55.6002182684421 51.3170746933979,-56.1340358140171 50.6870097926793,-56.7958817205953 49.8123086614909,-56.1431050278843 50.1501174993829,-55.471492275603 49.9358153346685,-55.822401089081 49.5871286077791,-54.9351425848456 49.3130109726868,-54.4737753973438 49.5566911891591,-53.4765494451914 49.249138902374,-53.7860137599713 48.5167805039336,-53.0861339992263 48.6878036566036,-52.9586482407622 48.1571642116145,-52.6480987209042 47.5355484075755,-53.0691582912184 46.6554987656449,-53.521456264853 46.6182917343948,-54.1789355129025 46.807065741557,-53.9618686590605 47.6252070176019,-54.2404821437621 47.7522793646076,-55.4007730780116 46.8849938014531,-55.9974808416858 46.9197203639533,-55.2912190415528 47.389562486351,-56.2507987127806 47.6325450709874,-57.3252292547771 47.572807115258,-59.2660151841468 47.6033478867425,-59.4194941880537 47.8994538437749,-58.7965864732074 48.2515253769794,-59.2316245184566 48.5231883815378,-58.3918049790652 49.1255805527642,-57.3586897446861 50.7182740342159,-56.738650071832 51.2874382594785,-55.8709769354353 51.6320942246492,-55.4069742498866 51.5882726100657,-55.6002182684421 51.3170746933979)),((-83.8826263089198 65.1096178249635,-82.7875768704388 64.7666930202747,-81.6420137193926 64.455135809987,-81.5534403144443 63.9796092800371,-80.8173612128789 64.057485663501,-80.1034513007666 63.7259813503486,-80.9910198635957 63.411246039475,-82.547178107417 63.6517223171452,-83.1087975735651 64.1018757188397,-84.1004166328139 63.569711819098,-85.523404710619 63.0523790554241,-85.8667687649824 63.6372529161035,-87.2219832018368 63.5412381049052,-86.3527597724713 64.0358332383707,-86.2248864407651 64.8229169786082,-85.8838478258549 65.7387783881171,-85.1613079495499 65.6572846543928,-84.9757637194059 65.217518215589,-84.4640120104195 65.3717723659802,-83.8826263089198 65.1096178249635)),((-78.7706385973108 72.3521731635342,-77.8246239895596 72.749616604291,-75.6058446926757 72.2436784939374,-74.228616095665 71.7671442735579,-74.0991407945577 71.3308401557176,-72.2422257147977 71.5569245469945,-71.2000154283352 70.9200125189972,-68.7860542466849 70.5250237087743,-67.9149704657569 70.1219475368977,-66.9690333726542 69.1860873480918,-68.8051228502006 68.7201984727644,-66.4498660956339 68.067163397892,-64.8623144191952 67.8475385606516,-63.4249344549968 66.9284732123406,-61.8519813706806 66.8621206732778,-62.1631768459423 66.1602513698896,-63.9184443833842 64.9986685248329,-65.1488602362537 65.4260326198867,-66.7212190415985 66.3880410834322,-68.015016038674 66.2627257351244,-68.1412874009792 65.6897891303044,-67.0896461656234 65.108455105237,-65.7320804510998 64.6484056667586,-65.3201676093013 64.3827371283461,-64.6694062974497 63.3929267442275,-65.0138038804589 62.674185085696,-66.2750447251905 62.9450987819861,-68.7831862046927 63.7456700710518,-67.3696807522131 62.8839655625848,-66.3282972886673 62.280074774822,-66.1655682033801 61.9308971218258,-68.8773665025446 62.3301492377128,-71.0234370591939 62.9107081162959,-72.235378587519 63.3978360052952,-71.8862784491713 63.6799893256089,-73.3783062405184 64.1939631211838,-74.8344189114226 64.6790756293238,-74.8185025702767 64.3890933295179,-77.7099798245201 64.2295423448168,-78.5559488593542 64.5729063991801,-77.897281053362 65.3091922064747,-76.0182742987972 65.3269688991831,-73.9597952948827 65.4547647162409,-74.2938834296496 65.8117713487294,-73.9449124823826 66.3105781114267,-72.6511671617394 67.2845755072639,-72.926059943316 67.7269257676823,-73.3116178046457 68.0694371609129,-74.8433072577768 68.5546271837013,-76.8691009182667 68.8947356228303,-76.2286490546574 69.1477692735474,-77.2873699612371 69.7695401068832,-78.1686339993266 69.8264875352689,-78.9572421943167 70.1668801947754,-79.4924550035637 69.8718077663888,-81.3054709540918 69.7431851264144,-84.9447061835985 69.9666340196444,-87.0600034248179 70.2600011257654,-88.6817132230015 70.4107412787608,-89.513419562523 70.7620376654809,-88.4677211168808 71.2181855333213,-89.8881512112875 71.22255219185,-90.205160285182 72.2350743679608,-89.436576707705 73.1294642198524,-88.4082415433129 73.5378889024712,-85.826151089201 73.8038158230452,-86.5621785143341 73.1574470079384,-85.7743713040445 72.5341258816339,-84.8501124742882 73.3402782253871,-82.315590176101 73.7509508328106,-80.6000876533077 72.7165436876242,-80.7489416165244 72.0619066433507,-78.7706385973108 72.3521731635342)),((-94.5036575996524 74.1349067247392,-92.4200121732117 74.1000251329422,-90.5097928535426 73.8567324897121,-92.0039652168299 72.9662442084585,-93.1962955391003 72.7719924994733,-94.2690465970473 72.024596259236,-95.4098555163227 72.0618808051346,-96.0337450833824 72.9402768012318,-96.018267991911 73.4374299180958,-95.495793423224 73.8624168972642,-94.5036575996524 74.1349067247392)),((-122.854924486159 76.1165428738357,-122.854925293603 76.1165428738357,-121.157535360328 76.8645075548283,-119.103938971821 77.5122199571746,-117.570130784966 77.4983189968881,-116.198586595507 77.6452867703262,-116.335813361458 76.8769615750106,-117.106050584769 76.5300318468191,-118.040412157038 76.4811717800871,-119.899317586886 76.053213406062,-121.499995077126 75.9000186225328,-122.854924486159 76.1165428738357)),((-132.710007884431 54.0400093154236,-131.749989584003 54.1200043809092,-132.049480347351 52.9846214870245,-131.179042521827 52.1804328476983,-131.577829549823 52.1823707139093,-132.180428426779 52.6397071396924,-132.549992432314 53.1000149603321,-133.054611178756 53.4114688177554,-133.239664482793 53.8510802272623,-133.180004041712 54.1699754909353,-132.710007884431 54.0400093154236)),((-105.492289191493 79.3015939399292,-103.529282396238 79.1653490261916,-100.825158047269 78.8004617377787,-100.060191820052 78.3247543403159,-99.6709390938136 77.9075446642074,-101.303940192453 78.0189848904449,-102.949808722733 78.3432286648602,-105.176132778732 78.3803323432458,-104.210429450277 78.6774201524918,-105.419580451259 78.9183356798365,-105.492289191493 79.3015939399292)),((-123.510001587551 48.5100108913034,-124.0128907884 48.3708462591414,-125.655012777338 48.8250045843385,-125.954994466793 49.1799958359676,-126.850004435872 49.5300003118804,-127.029993449544 49.8149958359701,-128.059336304366 49.9949590114266,-128.444584107102 50.5391376816761,-128.358413656255 50.7706480983437,-127.30858109603 50.552573554072,-126.695000977212 50.4009032252954,-125.755006673823 50.2950182155294,-125.415001587559 49.9500005153326,-124.920768189119 49.4752749700834,-123.922508708321 49.0624836289358,-123.510001587551 48.5100108913034)),((-121.53788 74.44893,-120.10978 74.24135,-117.55564 74.18577,-116.58442 73.89607,-115.51081 73.47519,-116.76794 73.22292,-119.22 72.52,-120.46 71.82,-120.46 71.3836017930876,-123.09219 70.90164,-123.62 71.34,-125.928948737473 71.8686884630114,-125.5 72.292260811795,-124.80729 73.02256,-123.94 73.68,-124.91775 74.29275,-121.53788 74.44893)),((-107.81943 75.84552,-106.92893 76.01282,-105.881 75.9694,-105.70498 75.47951,-106.31347 75.00527,-109.7 74.85,-112.22307 74.41696,-113.74381 74.39427,-113.87135 74.72029,-111.79421 75.1625,-116.31221 75.04343,-117.7104 75.2222,-116.34602 76.19903,-115.40487 76.47887,-112.59056 76.14134,-110.81422 75.54919,-109.0671 75.47321,-110.49726 76.42982,-109.5811 76.79417,-108.54859 76.67832,-108.21141 76.20168,-107.81943 75.84552)),((-106.52259 73.07601,-105.40246 72.67259,-104.77484 71.6984,-104.46476 70.99297,-102.78537 70.49776,-100.98078 70.02432,-101.08929 69.58447,-102.73116 69.50402,-102.09329 69.11962,-102.43024 68.75282,-104.24 68.91,-105.96 69.18,-107.12254 69.11922,-109.0 68.78,-111.5341488752 68.6300591568179,-113.3132 68.53554,-113.85496 69.00744,-115.22 69.28,-116.10794 69.16821,-117.34 69.96,-116.67473 70.06655,-115.13112 70.2373,-113.72141 70.19237,-112.4161 70.36638,-114.35 70.6,-116.48684 70.52045,-117.9048 70.54056,-118.43238 70.9092,-116.11311 71.30918,-117.65568 71.2952,-119.40199 71.55859,-118.56267 72.30785,-117.86642 72.70594,-115.18909 73.31459,-114.16717 73.12145,-114.66634 72.65277,-112.44102 72.9554,-111.05039 72.4504,-109.92035 72.96113,-109.00654 72.63335,-108.18835 71.65089,-107.68599 72.06548,-108.39639 73.08953,-107.51645 73.23598,-106.52259 73.07601)),((-100.43836 72.70588,-101.54 73.36,-100.35642 73.84389,-99.16387 73.63339,-97.38 73.76,-97.12 73.47,-98.05359 72.99052,-96.54 72.56,-96.72 71.66,-98.35966 71.27285,-99.32286 71.35639,-100.01482 71.73827,-102.5 72.51,-102.48 72.83,-100.43836 72.70588)),((-106.6 73.6,-105.26 73.64,-104.5 73.42,-105.38 72.76,-106.94 73.46,-106.6 73.6)),((-98.5 76.72,-97.735585 76.25656,-97.704415 75.74344,-98.16 75.0,-99.80874 74.89744,-100.88366 75.05736,-100.86292 75.64075,-102.50209 75.5638,-102.56552 76.3366,-101.48973 76.30537,-99.98349 76.64634,-98.57699 76.58859,-98.5 76.72)),((-96.01644 80.60233,-95.32345 80.90729,-94.29843 80.97727,-94.73542 81.20646,-92.40984 81.25739,-91.13289 80.72345,-89.45 80.5093220338983,-87.81 80.32,-87.02 79.66,-85.81435 79.3369,-87.18756 79.0393,-89.03535 78.28723,-90.80436 78.21533,-92.87669 78.34333,-93.95116 78.75099,-93.93574 79.11373,-93.14524 79.3801,-94.974 79.37248,-96.07614 79.70502,-96.70972 80.15777,-96.01644 80.60233)),((-91.58702 81.89429,-90.1 82.085,-88.93227 82.11751,-86.97024 82.27961,-85.5 82.652273458057,-84.260005 82.6,-83.18 82.32,-82.42 82.86,-81.1 83.02,-79.30664 83.13056,-76.25 83.1720588235294,-75.71878 83.06404,-72.83153 83.23324,-70.665765 83.1697807583828,-68.5 83.1063215167657,-65.82735 83.02801,-63.68 82.9,-61.85 82.6286,-61.89388 82.36165,-64.334 81.92775,-66.75342 81.72527,-67.65755 81.50141,-65.48031 81.50657,-67.84 80.9,-69.4697 80.61683,-71.18 79.8,-73.2428 79.63415,-73.88 79.4301622048021,-76.90773 79.32309,-75.52924 79.19766,-76.22046 79.01907,-75.39345 78.52581,-76.34354 78.18296,-77.88851 77.89991,-78.36269 77.50859,-79.75951 77.20968,-79.61965 76.98336,-77.91089 77.022045,-77.88911 76.777955,-80.56125 76.17812,-83.17439 76.45403,-86.11184 76.29901,-87.6 76.42,-89.49068 76.47239,-89.6161 76.95213,-87.76739 77.17833,-88.26 77.9,-87.65 77.9702222222222,-84.97634 77.53873,-86.34 78.18,-87.96192 78.37181,-87.15198 78.75867,-85.37868 78.9969,-85.09495 79.34543,-86.50734 79.73624,-86.93179 80.25145,-84.19844 80.20836,-83.4086956521739 80.1,-81.84823 80.46442,-84.1 80.58,-87.59895 80.51627,-89.36663 80.85569,-90.2 81.26,-91.36786 81.5531,-91.58702 81.89429)),((-75.21597 67.44425,-75.86588 67.14886,-76.98687 67.09873,-77.2364 67.58809,-76.81166 68.14856,-75.89521 68.28721,-75.1145 68.01036,-75.10333 67.58202,-75.21597 67.44425)),((-96.2574012038006 69.4900303583218,-95.6476812038005 69.1076903583218,-96.2695212038006 68.7570403583218,-97.6174012038006 69.0600303583218,-98.4318012038005 68.9507003583218,-99.7974012038005 69.4000303583218,-98.9174012038006 69.7100303583218,-98.2182612038006 70.1435403583218,-97.1574012038005 69.8600303583218,-96.5574012038006 69.6800303583218,-96.2574012038006 69.4900303583218)),((-64.51912 49.87304,-64.17322 49.95718,-62.85829 49.70641,-61.835585 49.28855,-61.806305 49.10506,-62.29318 49.08717,-63.58926 49.40069,-64.51912 49.87304)),((-64.01486 47.03601,-63.6645 46.55001,-62.9393 46.41587,-62.01208 46.44314,-62.50391 46.03339,-62.87433 45.96818,-64.1428 46.39265,-64.39261 46.72747,-64.01486 47.03601)))\n"
          ]
        }
      ]
    },
    {
      "cell_type": "code",
      "source": [
        "print ('Примеры производных от геометрии')\n",
        "\n",
        "print ('\\nПлощадь:')\n",
        "print (feature3.geometry().Area())\n",
        "\n",
        "print ('\\nЦентральная точка:')\n",
        "print (feature3.geometry().Centroid())"
      ],
      "metadata": {
        "colab": {
          "base_uri": "https://localhost:8080/"
        },
        "id": "feJhgi-wD28T",
        "outputId": "590c1220-3796-481b-b690-825920571aef"
      },
      "execution_count": null,
      "outputs": [
        {
          "output_type": "stream",
          "name": "stdout",
          "text": [
            "Примеры производных от геометрии\n",
            "\n",
            "Площадь:\n",
            "1712.9952276493761\n",
            "\n",
            "Центральная точка:\n",
            "POINT (-98.142381372097 61.4690761453489)\n"
          ]
        }
      ]
    },
    {
      "cell_type": "code",
      "source": [
        "# Получаем значение конкретного атрибута\n",
        "\n",
        "print ('Название страны')\n",
        "print (feature3['NAME'])\n",
        "\n",
        "print ('\\nЧисленность населения')\n",
        "print (feature3['POP_EST'])"
      ],
      "metadata": {
        "colab": {
          "base_uri": "https://localhost:8080/"
        },
        "id": "DU6ld_yvJlCN",
        "outputId": "5bee8475-b7f8-464c-9454-2c8a850dbca3"
      },
      "execution_count": null,
      "outputs": [
        {
          "output_type": "stream",
          "name": "stdout",
          "text": [
            "Название страны\n",
            "Canada\n",
            "\n",
            "Численность населения\n",
            "35623680\n"
          ]
        }
      ]
    },
    {
      "cell_type": "code",
      "source": [
        "# Все страны с типом экономики 6. Developing region \n",
        "\n",
        "for feature in countries_layer:\n",
        "    if feature['ECONOMY'] == '1. Developing region':\n",
        "        print ('%s: %s' % (feature['NAME'], feature.geometry().Area()))"
      ],
      "metadata": {
        "id": "WycUkvbBJq03"
      },
      "execution_count": null,
      "outputs": []
    }
  ]
}