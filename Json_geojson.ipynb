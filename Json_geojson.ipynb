{
  "nbformat": 4,
  "nbformat_minor": 0,
  "metadata": {
    "colab": {
      "name": "Json_geojson.ipynb",
      "provenance": [],
      "collapsed_sections": [],
      "mount_file_id": "1GdzFqo3IWpQMS7-cAzyWkOK6XUsRnWrM",
      "authorship_tag": "ABX9TyN5xfHZ4FbUfhe1mpqKXX7E",
      "include_colab_link": true
    },
    "kernelspec": {
      "name": "python3",
      "display_name": "Python 3"
    },
    "language_info": {
      "name": "python"
    }
  },
  "cells": [
    {
      "cell_type": "markdown",
      "metadata": {
        "id": "view-in-github",
        "colab_type": "text"
      },
      "source": [
        "<a href=\"https://colab.research.google.com/github/AnnaPikuleva/-GDAL-OGR-Python-API/blob/main/Json_geojson.ipynb\" target=\"_parent\"><img src=\"https://colab.research.google.com/assets/colab-badge.svg\" alt=\"Open In Colab\"/></a>"
      ]
    },
    {
      "cell_type": "code",
      "source": [
        "Geojson to json"
      ],
      "metadata": {
        "id": "Uef4TEu1LBi-"
      },
      "execution_count": null,
      "outputs": []
    },
    {
      "cell_type": "code",
      "source": [
        "import json\n",
        "from shapely.geometry import shape, mapping, LineString\n",
        "\n",
        "inputPath = input ('Введите путь geojson файла')\n",
        "outputPath = input ('Введите путь для сохарнения json файла')\n",
        "\n",
        "with open(inputPath, 'r', encoding = 'utf-8') as file,\\\n",
        "        open (outputPath, 'w', encoding = 'utf-8') as outputfile:\n",
        "    data=json.load(file)\n",
        "\n",
        "    for feature in data.get('features'):\n",
        "        geom=shape(feature.get('geometry'))\n",
        "        \n",
        "    json.dump(data, outputfile)"
      ],
      "metadata": {
        "colab": {
          "base_uri": "https://localhost:8080/"
        },
        "id": "vaPZgfZAI0Ti",
        "outputId": "cd3b30eb-eeb1-477f-e751-a3d62204f3b5"
      },
      "execution_count": null,
      "outputs": [
        {
          "name": "stdout",
          "output_type": "stream",
          "text": [
            "Введите путь geojson файла/content/sample_data/admin_level_4.geojson\n",
            "Введите путь для сохарнения json файла/content/sample_data/admin_level_4.json\n"
          ]
        }
      ]
    },
    {
      "cell_type": "code",
      "source": [
        "Json to geojson"
      ],
      "metadata": {
        "id": "KnSAMt02Lew2"
      },
      "execution_count": null,
      "outputs": []
    },
    {
      "cell_type": "code",
      "source": [
        "import json\n",
        "from shapely.geometry import shape, mapping, LineString\n",
        "\n",
        "inputPath = input ('Введите путь json файла')\n",
        "outputPath = input ('Введите путь для сохарнения geojson файла')\n",
        "\n",
        "#inputPath = r'/content/sample_data/admin_level_4.json'\n",
        "#outputPath = r'/content/sample_data/admin_level_4.geojson'\n",
        "\n",
        "with open(inputPath, 'r', encoding = 'utf-8') as file,\\\n",
        "        open (outputPath, 'w', encoding = 'utf-8') as outputfile:\n",
        "    data=json.load(file)\n",
        "\n",
        "    for feature in data.get('features'):\n",
        "        geom=shape(feature.get('geometry'))\n",
        "        \n",
        "    json.dump(data, outputfile)"
      ],
      "metadata": {
        "colab": {
          "base_uri": "https://localhost:8080/"
        },
        "id": "1vxBOP4_LFkk",
        "outputId": "dff929c2-403c-4397-c63a-da92903fb498"
      },
      "execution_count": null,
      "outputs": [
        {
          "name": "stdout",
          "output_type": "stream",
          "text": [
            "Введите путь json файла/content/sample_data/test_points_GeoJSON.json\n",
            "Введите путь для сохарнения geojson файла/content/sample_data/test_points_GeoJSON.geojson\n"
          ]
        }
      ]
    }
  ]
}